{
 "cells": [
  {
   "cell_type": "markdown",
   "metadata": {},
   "source": [
    "Data Science Fundamentals: Python |\n",
    "[Table of Contents](../index.ipynb)\n",
    "- - - \n",
    "<!--NAVIGATION-->\n",
    "Module 3. [Control Flow](./01_mod_control_flow.ipynb) | [Statements](./02_python_statements.ipynb) | [Functions](./03_python_functions.ipynb) | **[Exercises](./04_mod_exercises.ipynb)**\n",
    "<!--NAVIGATION-->\n",
    "Supplemental. [While Loops](./supplemental/01_while-loop.ipynb) | [If Elif Else](./supplemental/02_if-elif-else.ipynb) | [Break Continue](./supplemental/03_break_continue.ipynb) | [For Loops](./04_for_loop.ipynb)\n",
    "<!--NAVIGATION-->\n",
    "Optional. [Writing Assignment](./optional/writing_assignment.ipynb) | [Real World Examples](./optional/real_world_examples.ipynb)"
   ]
  },
  {
   "cell_type": "markdown",
   "metadata": {},
   "source": [
    "# Module 3: Practice Exercises"
   ]
  },
  {
   "cell_type": "markdown",
   "metadata": {},
   "source": [
    "1. Guess a number between 1 to 9 given by the user. Hint. [Random](https://docs.python.org/3/library/random.html)"
   ]
  },
  {
   "cell_type": "code",
   "execution_count": 47,
   "metadata": {},
   "outputs": [
    {
     "name": "stdout",
     "output_type": "stream",
     "text": [
      "What is your magic number? (I promise I won't peek!) 5\n",
      "Is it not 9 ? Hmm, let me guess again!\n",
      "Is it not 3 ? Hmm, let me guess again!\n",
      "Is it not 8 ? Hmm, let me guess again!\n",
      "Is it not 7 ? Hmm, let me guess again!\n",
      "Is it not 3 ? Hmm, let me guess again!\n",
      "Is it not 4 ? Hmm, let me guess again!\n",
      "Is it not 3 ? Hmm, let me guess again!\n",
      "Is it not 7 ? Hmm, let me guess again!\n",
      "Is it not 1 ? Hmm, let me guess again!\n",
      "Is it not 4 ? Hmm, let me guess again!\n",
      "Is it not 8 ? Hmm, let me guess again!\n",
      "I got it! It was 5\n",
      "Dang. How unlucky. It took me 11 tries.\n"
     ]
    }
   ],
   "source": [
    "import random\n",
    "\n",
    "givenNumber = int(input(\"What is your magic number? (I promise I won't peek!) \"))\n",
    "\n",
    "randomNumber = random.randint(1,9)\n",
    "\n",
    "luckCount = 0\n",
    "\n",
    "while randomNumber != givenNumber:\n",
    "    print(\"Is it not\", randomNumber, \"? Hmm, let me guess again!\")\n",
    "    randomNumber = random.randint (1,9)\n",
    "    luckCount = luckCount + 1\n",
    "    \n",
    "print(\"I got it! It was\", randomNumber)\n",
    "\n",
    "if luckCount == 1:\n",
    "    print(\"Wow! How lucky! I got it on the 1st try!\")\n",
    "\n",
    "if luckCount <= 9:\n",
    "    print(\"It only took me\", luckCount, \"tries!\")\n",
    "    \n",
    "if luckCount > 9:\n",
    "    print(\"Dang. How unlucky. It took me\", luckCount, \"tries.\")\n"
   ]
  },
  {
   "cell_type": "markdown",
   "metadata": {},
   "source": [
    "2. Check the validity of password input by the user. Hint. [Re](https://docs.python.org/3/library/re.html) which does matching operations much like Perl.\n",
    "\n",
    "Validation:\n",
    "\n",
    "- At least 1 letter between [a-z] and 1 letter between [A-Z].\n",
    "- At least 1 number between [0-9].\n",
    "- At least 1 character from [$#@].\n",
    "- Minimum length 6 characters.\n",
    "- Maximum length 16 characters."
   ]
  },
  {
   "cell_type": "code",
   "execution_count": 79,
   "metadata": {},
   "outputs": [
    {
     "name": "stdout",
     "output_type": "stream",
     "text": [
      "Please enter the password you would like to use. 12355\n",
      "Please include a lower case letter in your password.\n",
      "Please include an upper case letter in your password.\n",
      "Please include a special character ('$','@','#')in your password.\n",
      "Please keep your password longer than 5 characters.\n",
      "Please include the changes listed above.\n"
     ]
    }
   ],
   "source": [
    "import re\n",
    "\n",
    "lowerCase = r\"[a-z]\"\n",
    "upperCase = r\"[A-Z]\"\n",
    "number = r\"[0-9]\"\n",
    "specialChar = r\"['$''@''#']\"\n",
    "passCounter = 0\n",
    "\n",
    "userPW = input(\"Please enter the password you would like to use. \")\n",
    "\n",
    "if re.search(lowerCase, userPW):\n",
    "    passCounter = passCounter + 1\n",
    "else:\n",
    "    print(\"Please include a lower case letter in your password.\")\n",
    "\n",
    "if re.search(upperCase, userPW):\n",
    "    passCounter = passCounter + 1\n",
    "else:\n",
    "    print(\"Please include an upper case letter in your password.\")\n",
    "    \n",
    "if re.search(number, userPW):\n",
    "    passCounter = passCounter + 1\n",
    "else:\n",
    "    print(\"Please include a number in your password\")\n",
    "\n",
    "if re.search(specialChar, userPW):\n",
    "    passCounter = passCounter + 1\n",
    "else:\n",
    "    print(\"Please include a special character ('$','@','#')in your password.\")\n",
    "\n",
    "if len(userPW) >= 6 and len(userPW) <= 16:\n",
    "    passCounter = passCounter + 1\n",
    "\n",
    "if len(userPW) < 6:\n",
    "    print(\"Please keep your password longer than 5 characters.\")\n",
    "    \n",
    "if len(userPW) > 16:\n",
    "    print(\"Please keep your password shorter than 17 characters.\")\n",
    "    \n",
    "if passCounter == 5:\n",
    "    print(\"This password is strong.\")\n",
    "else:\n",
    "    print(\"Please include the changes listed above.\")"
   ]
  },
  {
   "cell_type": "markdown",
   "metadata": {},
   "source": [
    "3. Get input of the age of 3 people by user and determine oldest and youngest among them"
   ]
  },
  {
   "cell_type": "code",
   "execution_count": 10,
   "metadata": {},
   "outputs": [
    {
     "name": "stdout",
     "output_type": "stream",
     "text": [
      "Enter First Person's Age: 13\n",
      "Enter Second Person's Age: 12\n",
      "Enter Third Person's Age: 11\n",
      "['11', '12', '13']\n"
     ]
    }
   ],
   "source": [
    "ageList = []\n",
    "\n",
    "number1 = input(\"Enter First Person's Age: \")\n",
    "number2 = input(\"Enter Second Person's Age: \")\n",
    "number3 = input(\"Enter Third Person's Age: \")\n",
    "\n",
    "ageList.append(number1)\n",
    "ageList.append(number2)\n",
    "ageList.append(number3)\n",
    "\n",
    "sortedList = sorted(ageList)\n",
    "\n",
    "print(sortedList)"
   ]
  },
  {
   "cell_type": "markdown",
   "metadata": {},
   "source": [
    "4. A student will not be allowed to sit in exam if his/her attendance is less than 75%.\n",
    "\n",
    "Take following input from user\n",
    "\n",
    "- Number of classes held\n",
    "- Number of classes attended.\n",
    "- And print percentage of class attended\n",
    "- Is student is allowed to sit in exam or not?"
   ]
  },
  {
   "cell_type": "code",
   "execution_count": 64,
   "metadata": {},
   "outputs": [
    {
     "name": "stdout",
     "output_type": "stream",
     "text": [
      "Please enter the amount of classes that were held. 15\n",
      "Please enter the amount of classes that were attended. 1\n",
      "Attendance percentage:  0.06666666666666667\n",
      "You can not take part in this exam.\n"
     ]
    }
   ],
   "source": [
    "classHeld = int(input(\"Please enter the amount of classes that were held. \"))\n",
    "classAtten = int(input(\"Please enter the amount of classes that were attended. \"))\n",
    "\n",
    "classPerc = (classAtten / classHeld)\n",
    "\n",
    "print(\"Attendance percentage: \", classPerc)\n",
    "\n",
    "if classPerc >= .75:\n",
    "    print(\"You can take part in this exam.\")\n",
    "else:\n",
    "    print(\"You can not take part in this exam.\")"
   ]
  },
  {
   "cell_type": "markdown",
   "metadata": {},
   "source": [
    "5. Get an integer N from the user and perform the following actions:\n",
    "\n",
    "Find out - \n",
    "- if N is odd, print \"weird\"\n",
    "- if N is even and in the inclusive range of 2 to 5, print \"Not Weird\"\n",
    "- if N is even and in the inclusive range of 6 to 20, print \"Weird\"\n",
    "- if N is even and greater than 20, print \"Not Weird\""
   ]
  },
  {
   "cell_type": "code",
   "execution_count": 72,
   "metadata": {
    "scrolled": true
   },
   "outputs": [
    {
     "name": "stdout",
     "output_type": "stream",
     "text": [
      "Give me a number and I'll tell you if you are a weirdo or not. 14\n",
      "You're a weirdo :/\n"
     ]
    }
   ],
   "source": [
    "userInte = int(input(\"Give me a number and I'll tell you if you are a weirdo or not. \"))\n",
    "\n",
    "if (userInte % 2) == 0 and userInte >= 2 and userInte <= 5:\n",
    "    print(\"You're not a weirdo :)\")\n",
    "\n",
    "if userInte % 2 == 0 and userInte >= 6 and userInte <= 20:\n",
    "    print(\"You're a weirdo :/\")\n",
    "\n",
    "if userInte % 2 == 0 and userInte > 20:\n",
    "    print(\"You're not a weirdo :)\")\n",
    "    \n",
    "if userInte % 2 == 1:\n",
    "    print(\"You're a weirdo :/\")"
   ]
  }
 ],
 "metadata": {
  "kernelspec": {
   "display_name": "Python 3 (ipykernel)",
   "language": "python",
   "name": "python3"
  },
  "language_info": {
   "codemirror_mode": {
    "name": "ipython",
    "version": 3
   },
   "file_extension": ".py",
   "mimetype": "text/x-python",
   "name": "python",
   "nbconvert_exporter": "python",
   "pygments_lexer": "ipython3",
   "version": "3.10.9"
  }
 },
 "nbformat": 4,
 "nbformat_minor": 4
}
