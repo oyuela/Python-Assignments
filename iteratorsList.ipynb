{
 "cells": [
  {
   "cell_type": "markdown",
   "metadata": {},
   "source": [
    "Data Science Fundamentals: Python |\n",
    "[Table of Contents](../index.ipynb)\n",
    "- - - \n",
    "<!--NAVIGATION-->\n",
    "Module 5. | [Iterators](./01_iterators.ipynb) | [List Comprehension](./02_list_comprehension.ipynb) | [Generators](./03_generators.ipynb) | **[Exercises](./04_list_exercises.ipynb)**"
   ]
  },
  {
   "cell_type": "markdown",
   "metadata": {},
   "source": [
    "# Module 5: Practice Exercises"
   ]
  },
  {
   "cell_type": "markdown",
   "metadata": {},
   "source": [
    "## Exercise 1\n",
    "\n",
    "Exercise to create a tool that computes the cartesian product of input iterables.  It is equivalent to nested for-loops. For example, product(A, B) returns the same as ((x,y) for x in A for y in B). [See Hacker Rank Problem](https://www.hackerrank.com/challenges/itertools-product/problem)\n",
    "\n",
    "What is a **cartesian product**?\n",
    "\n",
    "In mathematics, specifically set theory, the Cartesian product of two sets A and B, denoted A × B, is the set of all ordered pairs where a is in A and b is in B."
   ]
  },
  {
   "cell_type": "code",
   "execution_count": 11,
   "metadata": {
    "scrolled": false
   },
   "outputs": [
    {
     "name": "stdout",
     "output_type": "stream",
     "text": [
      "1 2\n",
      "3 4\n",
      "(1, 3) (1, 4) (2, 3) (2, 4) "
     ]
    }
   ],
   "source": [
    "from itertools import product \n",
    "\n",
    "listOne = input().split()\n",
    "listTwo = input().split()\n",
    "\n",
    "listOne = [int(num) for num in listOne]\n",
    "listTwo = [int(num) for num in listTwo]\n",
    "\n",
    "result = product(listOne,listTwo)\n",
    "\n",
    "for product in result:\n",
    "    print(product, end=' ')"
   ]
  },
  {
   "cell_type": "markdown",
   "metadata": {},
   "source": [
    "##### Exercise 2\n",
    "\n",
    "Exercise wants you to create a tool returns successive ***r*** length permutations of elements in an iterable. If ***r*** is not specified or is None, then ***r*** defaults to the length of the iterable, and all possible full length permutations are generated. Permutations are printed in a lexicographic sorted order. So, if the input iterable is sorted, the permutation tuples will be produced in a sorted order. [See Hacker Rank Problem](https://www.hackerrank.com/challenges/itertools-permutations/problem)"
   ]
  },
  {
   "cell_type": "code",
   "execution_count": 49,
   "metadata": {
    "scrolled": true
   },
   "outputs": [
    {
     "name": "stdout",
     "output_type": "stream",
     "text": [
      "HACK 2\n",
      "AC\n",
      "AH\n",
      "AK\n",
      "CA\n",
      "CH\n",
      "CK\n",
      "HA\n",
      "HC\n",
      "HK\n",
      "KA\n",
      "KC\n",
      "KH\n"
     ]
    }
   ],
   "source": [
    "from itertools import permutations\n",
    "\n",
    "userInput = input()\n",
    "splitInput = userInput.split(\" \")\n",
    "\n",
    "updatedInput = splitInput[0]\n",
    "permutNumber = int(splitInput[1])\n",
    "\n",
    "permutedInput = permutations(updatedInput, permutNumber)\n",
    "sortedList= sorted(permutedInput)\n",
    "\n",
    "for permutation in sortedList:\n",
    "    print(''.join(permutation))"
   ]
  },
  {
   "cell_type": "markdown",
   "metadata": {},
   "source": [
    "[Submit Solution To Hacker Rank](https://www.hackerrank.com/challenges/itertools-permutations/submissions)"
   ]
  },
  {
   "cell_type": "markdown",
   "metadata": {},
   "source": [
    "## Exercise 3\n",
    "\n",
    "This tool returns ***r*** length subsequences of elements from the input iterable allowing individual elements to be repeated more than once.\n",
    "\n",
    "Combinations are emitted in lexicographic sorted order. So, if the input iterable is sorted, the combination tuples will be produced in sorted order."
   ]
  },
  {
   "cell_type": "code",
   "execution_count": 64,
   "metadata": {
    "scrolled": true
   },
   "outputs": [
    {
     "name": "stdout",
     "output_type": "stream",
     "text": [
      "HACK 2\n",
      "AA\n",
      "AC\n",
      "AH\n",
      "AK\n",
      "CC\n",
      "CH\n",
      "CK\n",
      "HH\n",
      "HK\n",
      "KK\n"
     ]
    }
   ],
   "source": [
    "from itertools import combinations_with_replacement\n",
    "\n",
    "userInput = input()\n",
    "updatedList = userInput.split(' ')\n",
    "\n",
    "number = int(updatedList[1])\n",
    "\n",
    "sortedList = sorted(updatedList[0])\n",
    "replacedList = combinations_with_replacement(sortedList, number)\n",
    "\n",
    "for replacement in replacedList:\n",
    "    print(''.join(replacement))"
   ]
  }
 ],
 "metadata": {
  "kernelspec": {
   "display_name": "Python 3 (ipykernel)",
   "language": "python",
   "name": "python3"
  },
  "language_info": {
   "codemirror_mode": {
    "name": "ipython",
    "version": 3
   },
   "file_extension": ".py",
   "mimetype": "text/x-python",
   "name": "python",
   "nbconvert_exporter": "python",
   "pygments_lexer": "ipython3",
   "version": "3.10.9"
  }
 },
 "nbformat": 4,
 "nbformat_minor": 4
}
